{
 "cells": [
  {
   "cell_type": "code",
   "execution_count": 40,
   "metadata": {},
   "outputs": [],
   "source": [
    "import pandas as pd;\n",
    "import numpy as np;\n",
    "import matplotlib.pyplot as plt\n",
    "import re"
   ]
  },
  {
   "cell_type": "code",
   "execution_count": 41,
   "metadata": {},
   "outputs": [
    {
     "data": {
      "text/html": [
       "<div>\n",
       "<style scoped>\n",
       "    .dataframe tbody tr th:only-of-type {\n",
       "        vertical-align: middle;\n",
       "    }\n",
       "\n",
       "    .dataframe tbody tr th {\n",
       "        vertical-align: top;\n",
       "    }\n",
       "\n",
       "    .dataframe thead th {\n",
       "        text-align: right;\n",
       "    }\n",
       "</style>\n",
       "<table border=\"1\" class=\"dataframe\">\n",
       "  <thead>\n",
       "    <tr style=\"text-align: right;\">\n",
       "      <th></th>\n",
       "      <th>ip</th>\n",
       "      <th>current_va</th>\n",
       "      <th>last_va</th>\n",
       "      <th>stride</th>\n",
       "      <th>state</th>\n",
       "    </tr>\n",
       "  </thead>\n",
       "  <tbody>\n",
       "    <tr>\n",
       "      <th>0</th>\n",
       "      <td>4208268</td>\n",
       "      <td>139664040951808</td>\n",
       "      <td>139664040665088</td>\n",
       "      <td>286720</td>\n",
       "      <td>2</td>\n",
       "    </tr>\n",
       "    <tr>\n",
       "      <th>1</th>\n",
       "      <td>4208303</td>\n",
       "      <td>139669186674688</td>\n",
       "      <td>139669186678784</td>\n",
       "      <td>-4096</td>\n",
       "      <td>2</td>\n",
       "    </tr>\n",
       "    <tr>\n",
       "      <th>2</th>\n",
       "      <td>4208268</td>\n",
       "      <td>139664041242624</td>\n",
       "      <td>139664040951808</td>\n",
       "      <td>290816</td>\n",
       "      <td>3</td>\n",
       "    </tr>\n",
       "    <tr>\n",
       "      <th>3</th>\n",
       "      <td>4208268</td>\n",
       "      <td>139664041529344</td>\n",
       "      <td>139664041242624</td>\n",
       "      <td>286720</td>\n",
       "      <td>3</td>\n",
       "    </tr>\n",
       "    <tr>\n",
       "      <th>4</th>\n",
       "      <td>4208268</td>\n",
       "      <td>139664041816064</td>\n",
       "      <td>139664041529344</td>\n",
       "      <td>286720</td>\n",
       "      <td>2</td>\n",
       "    </tr>\n",
       "  </tbody>\n",
       "</table>\n",
       "</div>"
      ],
      "text/plain": [
       "        ip       current_va          last_va  stride  state\n",
       "0  4208268  139664040951808  139664040665088  286720      2\n",
       "1  4208303  139669186674688  139669186678784   -4096      2\n",
       "2  4208268  139664041242624  139664040951808  290816      3\n",
       "3  4208268  139664041529344  139664041242624  286720      3\n",
       "4  4208268  139664041816064  139664041529344  286720      2"
      ]
     },
     "execution_count": 41,
     "metadata": {},
     "output_type": "execute_result"
    }
   ],
   "source": [
    "data = []\n",
    "\n",
    "# Open and read the log file line by line\n",
    "with open('../output/task1/no-asp-1core_degree_8.log', 'r') as file:\n",
    "    for line in file:\n",
    "        # Use regular expressions to extract the values\n",
    "        match = re.search(r'ip: (\\d+) cva: (\\d+) lva: (\\d+) stride: (-?\\d+) state: (\\d+)', line)\n",
    "        if match:\n",
    "            # Extracted values from the line\n",
    "            ip = int(match.group(1))\n",
    "            currentva = int(match.group(2))\n",
    "            lastva = int(match.group(3))\n",
    "            stride = int(match.group(4))\n",
    "            state = int(match.group(5))\n",
    "            \n",
    "            # Append the extracted values to the data list as a tuple\n",
    "            data.append((ip, currentva, lastva, stride, state))\n",
    "\n",
    "# Convert the data list into a Pandas DataFrame\n",
    "df = pd.DataFrame(data, columns=['ip', 'current_va', 'last_va', 'stride', 'state'])\n",
    "df.head()"
   ]
  },
  {
   "cell_type": "code",
   "execution_count": 42,
   "metadata": {},
   "outputs": [
    {
     "name": "stdout",
     "output_type": "stream",
     "text": [
      "<class 'pandas.core.frame.DataFrame'>\n",
      "RangeIndex: 1374139 entries, 0 to 1374138\n",
      "Data columns (total 5 columns):\n",
      " #   Column      Non-Null Count    Dtype\n",
      "---  ------      --------------    -----\n",
      " 0   ip          1374139 non-null  int64\n",
      " 1   current_va  1374139 non-null  int64\n",
      " 2   last_va     1374139 non-null  int64\n",
      " 3   stride      1374139 non-null  int64\n",
      " 4   state       1374139 non-null  int64\n",
      "dtypes: int64(5)\n",
      "memory usage: 52.4 MB\n"
     ]
    }
   ],
   "source": [
    "df.info()"
   ]
  },
  {
   "cell_type": "markdown",
   "metadata": {},
   "source": [
    "### Number of unique IPs in Trace as seen by STLB"
   ]
  },
  {
   "cell_type": "code",
   "execution_count": 43,
   "metadata": {},
   "outputs": [
    {
     "data": {
      "text/plain": [
       "8"
      ]
     },
     "execution_count": 43,
     "metadata": {},
     "output_type": "execute_result"
    }
   ],
   "source": [
    "df['ip'].nunique()"
   ]
  },
  {
   "cell_type": "markdown",
   "metadata": {},
   "source": [
    "### Frequency of each such IP"
   ]
  },
  {
   "cell_type": "code",
   "execution_count": 44,
   "metadata": {},
   "outputs": [
    {
     "data": {
      "text/plain": [
       "ip\n",
       "4208268    1108620\n",
       "4208303     255026\n",
       "4208293       6489\n",
       "4208369       2170\n",
       "4208311       1692\n",
       "4208325        130\n",
       "4208374         10\n",
       "4208320          2\n",
       "Name: count, dtype: int64"
      ]
     },
     "execution_count": 44,
     "metadata": {},
     "output_type": "execute_result"
    }
   ],
   "source": [
    "df['ip'].value_counts()"
   ]
  },
  {
   "cell_type": "markdown",
   "metadata": {},
   "source": [
    "### As percentage"
   ]
  },
  {
   "cell_type": "code",
   "execution_count": 45,
   "metadata": {},
   "outputs": [
    {
     "data": {
      "text/plain": [
       "ip\n",
       "4208268    80.677428\n",
       "4208303    18.558967\n",
       "4208293     0.472223\n",
       "4208369     0.157917\n",
       "4208311     0.123132\n",
       "4208325     0.009460\n",
       "4208374     0.000728\n",
       "4208320     0.000146\n",
       "Name: count, dtype: float64"
      ]
     },
     "execution_count": 45,
     "metadata": {},
     "output_type": "execute_result"
    }
   ],
   "source": [
    "100 * df['ip'].value_counts()/df.shape[0]"
   ]
  },
  {
   "cell_type": "markdown",
   "metadata": {},
   "source": [
    "### % Distribution of states the ASP was in\n",
    "    - 2 Transient\n",
    "    - 1 Steady\n",
    "    - 0 Initial"
   ]
  },
  {
   "cell_type": "code",
   "execution_count": 46,
   "metadata": {},
   "outputs": [
    {
     "data": {
      "text/plain": [
       "state\n",
       "3    34.723416\n",
       "1    28.622505\n",
       "2    21.692274\n",
       "0    14.961805\n",
       "Name: count, dtype: float64"
      ]
     },
     "execution_count": 46,
     "metadata": {},
     "output_type": "execute_result"
    }
   ],
   "source": [
    "100 * df['state'].value_counts()/df.shape[0]"
   ]
  },
  {
   "cell_type": "markdown",
   "metadata": {},
   "source": [
    "### For the dominant IP"
   ]
  },
  {
   "cell_type": "code",
   "execution_count": 47,
   "metadata": {},
   "outputs": [
    {
     "data": {
      "text/plain": [
       "state\n",
       "3    36.319298\n",
       "2    24.175642\n",
       "1    22.438527\n",
       "0    17.066533\n",
       "Name: count, dtype: float64"
      ]
     },
     "execution_count": 47,
     "metadata": {},
     "output_type": "execute_result"
    }
   ],
   "source": [
    "dominant_ip = df[df['ip'] == 4208268]\n",
    "100 * dominant_ip['state'].value_counts()/dominant_ip.shape[0]"
   ]
  },
  {
   "cell_type": "code",
   "execution_count": 48,
   "metadata": {},
   "outputs": [
    {
     "data": {
      "text/plain": [
       "stride\n",
       " 286720       621173\n",
       " 290816       258416\n",
       " 577536        77258\n",
       " 573440        52535\n",
       "-286720        40454\n",
       "-290816        17079\n",
       " 864256        12965\n",
       "-577536        12139\n",
       "-573440         8469\n",
       " 1150976        4813\n",
       " 860160         1806\n",
       " 1155072        1034\n",
       "-791797760       268\n",
       "-791793664        83\n",
       "-791506944        45\n",
       "-791511040        30\n",
       " 791797760        18\n",
       "-791220224        10\n",
       " 791511040         8\n",
       " 791506944         7\n",
       "-791224320         5\n",
       " 791793664         5\n",
       "Name: count, dtype: int64"
      ]
     },
     "execution_count": 48,
     "metadata": {},
     "output_type": "execute_result"
    }
   ],
   "source": [
    "pd.set_option(\"display.max_rows\", None)\n",
    "dominant_ip['stride'].value_counts()[:]"
   ]
  }
 ],
 "metadata": {
  "kernelspec": {
   "display_name": ".venv",
   "language": "python",
   "name": "python3"
  },
  "language_info": {
   "codemirror_mode": {
    "name": "ipython",
    "version": 3
   },
   "file_extension": ".py",
   "mimetype": "text/x-python",
   "name": "python",
   "nbconvert_exporter": "python",
   "pygments_lexer": "ipython3",
   "version": "3.12.3"
  }
 },
 "nbformat": 4,
 "nbformat_minor": 2
}
